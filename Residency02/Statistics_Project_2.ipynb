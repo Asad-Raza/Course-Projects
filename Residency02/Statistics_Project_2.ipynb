{
 "cells": [
  {
   "cell_type": "markdown",
   "metadata": {},
   "source": [
    "# Welcome to Statistics Project-2\n",
    "\n",
    "Dear Participant,\n",
    "\n",
    "Please find the below details for Statistics Project-2.\n",
    "\n",
    "About Data –\n",
    "\n",
    "In 2013, students of the Statistics class at FSEV UK were asked to invite their friends to participate in this survey.\n",
    "\n",
    "The data file (responses.csv) consists of 1010 rows and 150 columns (139 integers and 11 categorical).\n",
    "\n",
    "dataset - responses.csvView in a new window\n",
    "\n",
    "For convenience, the original variable names were shortened in the data file.\n",
    "\n",
    "See the columns.csv file if you want to match the data with the original names.\n",
    "\n",
    "* The data contain missing values.\n",
    "* The survey was presented to participants in both electronic and written form.\n",
    "* The original questionnaire was in Slovak language and was later translated into English.\n",
    "* All participants were of Slovakian nationality, aged between 15-30.\n",
    "\n",
    "For this Project we are considering 2 sections of data –  __Health Habits and Spending Habits__\n",
    "\n",
    "* Health Habits - I live a very healthy lifestyle. \n",
    "  - Here Strongly disagree 1-2-3-4-5 Strongly agree\n",
    "* Spending Habits - I save all the money I can.\n",
    "  - Strongly disagree 1-2-3-4-5 Strongly agree\n",
    " \n",
    "\n",
    "__The Agenda is to find whether Spending Habits and Healthy Lifestyle is related to Gender and Place or not.__\n",
    "\n",
    "Steps –\n",
    "\n",
    "* Load the data and extract the relevant columns. Hint – Relevant Columns will be \n",
    "  - Finances\n",
    "  - Gender\n",
    "  - Village-Town\n",
    "  - Healthy Eating\n",
    "* Explore the data and understand how the data is distributed? Is there any outlier or missing value? And Share your insights.\n",
    "* Create Hypothesis on the following questions –\n",
    "  - Is saving money (finances) gender dependant?\n",
    "  - Is there any differences in money saving (finances) between people from city or village?\n",
    "  - Do Women have a Healthier Lifestyle than Men?\n",
    "  - Are Village People Healthier than City People?\n",
    "* Perform the required statistical tests to validate/reject the Hypothesis in above step.\n",
    "* State your insights and conclusions.\n",
    "\n",
    "\n",
    "Please Note:\n",
    "\n",
    "__Total marks__ allotted for this assignment is __35__."
   ]
  },
  {
   "cell_type": "code",
   "execution_count": 274,
   "metadata": {},
   "outputs": [],
   "source": [
    "# Import necessary Python modules\n",
    "import pandas as pd\n",
    "import numpy as np\n",
    "import matplotlib.pyplot as plt\n",
    "import seaborn as sns\n",
    "from sklearn import model_selection\n",
    "from sklearn.metrics import mean_squared_error, r2_score\n",
    "import scipy\n",
    "import scipy.stats as stats"
   ]
  },
  {
   "cell_type": "code",
   "execution_count": 275,
   "metadata": {},
   "outputs": [
    {
     "name": "stdout",
     "output_type": "stream",
     "text": [
      "Shape of Dataset --  (1010, 150)\n"
     ]
    }
   ],
   "source": [
    "# Load the data\n",
    "survey = pd.read_csv(\"responses.csv\", dtype = { \"Gender\" : \"category\", \n",
    "                                                \"Village - town\" : \"category\"\n",
    "                                              })\n",
    "\n",
    "# Check the shape of given dataset\n",
    "print(\"Shape of Dataset -- \", survey.shape)"
   ]
  },
  {
   "cell_type": "code",
   "execution_count": 276,
   "metadata": {},
   "outputs": [
    {
     "data": {
      "text/plain": [
       "(1010, 4)"
      ]
     },
     "execution_count": 276,
     "metadata": {},
     "output_type": "execute_result"
    }
   ],
   "source": [
    "# So we have 1010 rows and 150 columns\n",
    "\n",
    "# Now let's grab the relevant columns for our analysis\n",
    "\n",
    "data = survey[[\"Finances\", \"Gender\", \"Village - town\", \"Healthy eating\"]]\n",
    "\n",
    "data.shape"
   ]
  },
  {
   "cell_type": "code",
   "execution_count": 277,
   "metadata": {},
   "outputs": [
    {
     "data": {
      "text/html": [
       "<div>\n",
       "<style scoped>\n",
       "    .dataframe tbody tr th:only-of-type {\n",
       "        vertical-align: middle;\n",
       "    }\n",
       "\n",
       "    .dataframe tbody tr th {\n",
       "        vertical-align: top;\n",
       "    }\n",
       "\n",
       "    .dataframe thead th {\n",
       "        text-align: right;\n",
       "    }\n",
       "</style>\n",
       "<table border=\"1\" class=\"dataframe\">\n",
       "  <thead>\n",
       "    <tr style=\"text-align: right;\">\n",
       "      <th></th>\n",
       "      <th>Finances</th>\n",
       "      <th>Gender</th>\n",
       "      <th>Village - town</th>\n",
       "      <th>Healthy eating</th>\n",
       "    </tr>\n",
       "  </thead>\n",
       "  <tbody>\n",
       "    <tr>\n",
       "      <th>count</th>\n",
       "      <td>1007.000000</td>\n",
       "      <td>1004</td>\n",
       "      <td>1006</td>\n",
       "      <td>1007.000000</td>\n",
       "    </tr>\n",
       "    <tr>\n",
       "      <th>unique</th>\n",
       "      <td>NaN</td>\n",
       "      <td>2</td>\n",
       "      <td>2</td>\n",
       "      <td>NaN</td>\n",
       "    </tr>\n",
       "    <tr>\n",
       "      <th>top</th>\n",
       "      <td>NaN</td>\n",
       "      <td>female</td>\n",
       "      <td>city</td>\n",
       "      <td>NaN</td>\n",
       "    </tr>\n",
       "    <tr>\n",
       "      <th>freq</th>\n",
       "      <td>NaN</td>\n",
       "      <td>593</td>\n",
       "      <td>707</td>\n",
       "      <td>NaN</td>\n",
       "    </tr>\n",
       "    <tr>\n",
       "      <th>mean</th>\n",
       "      <td>3.023833</td>\n",
       "      <td>NaN</td>\n",
       "      <td>NaN</td>\n",
       "      <td>3.031778</td>\n",
       "    </tr>\n",
       "    <tr>\n",
       "      <th>std</th>\n",
       "      <td>1.144365</td>\n",
       "      <td>NaN</td>\n",
       "      <td>NaN</td>\n",
       "      <td>0.936865</td>\n",
       "    </tr>\n",
       "    <tr>\n",
       "      <th>min</th>\n",
       "      <td>1.000000</td>\n",
       "      <td>NaN</td>\n",
       "      <td>NaN</td>\n",
       "      <td>1.000000</td>\n",
       "    </tr>\n",
       "    <tr>\n",
       "      <th>25%</th>\n",
       "      <td>2.000000</td>\n",
       "      <td>NaN</td>\n",
       "      <td>NaN</td>\n",
       "      <td>3.000000</td>\n",
       "    </tr>\n",
       "    <tr>\n",
       "      <th>50%</th>\n",
       "      <td>3.000000</td>\n",
       "      <td>NaN</td>\n",
       "      <td>NaN</td>\n",
       "      <td>3.000000</td>\n",
       "    </tr>\n",
       "    <tr>\n",
       "      <th>75%</th>\n",
       "      <td>4.000000</td>\n",
       "      <td>NaN</td>\n",
       "      <td>NaN</td>\n",
       "      <td>4.000000</td>\n",
       "    </tr>\n",
       "    <tr>\n",
       "      <th>max</th>\n",
       "      <td>5.000000</td>\n",
       "      <td>NaN</td>\n",
       "      <td>NaN</td>\n",
       "      <td>5.000000</td>\n",
       "    </tr>\n",
       "  </tbody>\n",
       "</table>\n",
       "</div>"
      ],
      "text/plain": [
       "           Finances  Gender Village - town  Healthy eating\n",
       "count   1007.000000    1004           1006     1007.000000\n",
       "unique          NaN       2              2             NaN\n",
       "top             NaN  female           city             NaN\n",
       "freq            NaN     593            707             NaN\n",
       "mean       3.023833     NaN            NaN        3.031778\n",
       "std        1.144365     NaN            NaN        0.936865\n",
       "min        1.000000     NaN            NaN        1.000000\n",
       "25%        2.000000     NaN            NaN        3.000000\n",
       "50%        3.000000     NaN            NaN        3.000000\n",
       "75%        4.000000     NaN            NaN        4.000000\n",
       "max        5.000000     NaN            NaN        5.000000"
      ]
     },
     "execution_count": 277,
     "metadata": {},
     "output_type": "execute_result"
    }
   ],
   "source": [
    "# Generate descriptive statistics that summarize the central tendency,\n",
    "# dispersion and shape of a dataset's distribution, excluding\n",
    "# ``NaN`` values.\n",
    "data.describe(include='all')"
   ]
  },
  {
   "cell_type": "code",
   "execution_count": 278,
   "metadata": {},
   "outputs": [
    {
     "name": "stdout",
     "output_type": "stream",
     "text": [
      "Missing values in Finances column = 3\n",
      "Missing values in Gender column = 6\n",
      "Missing values in Village - town column = 4\n",
      "Missing values in Healthy eating column = 3\n"
     ]
    }
   ],
   "source": [
    "# Count number of missing values\n",
    "print_missing_cnt = lambda col : print(\"Missing values in {} column = {}\".format(col, sum(data[col].isna().ravel())))\n",
    "\n",
    "print_missing_cnt(\"Finances\")\n",
    "print_missing_cnt(\"Gender\")\n",
    "print_missing_cnt(\"Village - town\")\n",
    "print_missing_cnt(\"Healthy eating\")"
   ]
  },
  {
   "cell_type": "code",
   "execution_count": 279,
   "metadata": {},
   "outputs": [
    {
     "name": "stdout",
     "output_type": "stream",
     "text": [
      "\n",
      "Value Count for Finances: \n",
      "3.0    0.355511\n",
      "4.0    0.250248\n",
      "2.0    0.172790\n",
      "1.0    0.124131\n",
      "5.0    0.097319\n",
      "Name: Finances, dtype: float64\n",
      "\n",
      "Value Count for Healthy eating: \n",
      "3.0    0.500497\n",
      "4.0    0.237339\n",
      "2.0    0.136048\n",
      "1.0    0.080437\n",
      "5.0    0.045680\n",
      "Name: Healthy eating, dtype: float64\n",
      "\n",
      "Value Count for Gender: \n",
      "female    0.590637\n",
      "male      0.409363\n",
      "Name: Gender, dtype: float64\n",
      "\n",
      "Value Count for Village - town: \n",
      "city       0.702783\n",
      "village    0.297217\n",
      "Name: Village - town, dtype: float64\n",
      "\n",
      "For 'Finances' column, 35.55% values are set to 3 and for 'Healthy eating' column 50.04% values are set to 3. Hence setting the missing values in these columns to 3\n",
      "\n",
      "For 'Gender' column, 59.30% values are set to 'female' and for 'Village - town' column 70.39% values are set to 'city'. Hence setting the missing values in these columns 'female' & 'city' respectively.\n"
     ]
    }
   ],
   "source": [
    "print_value_cnt = lambda col : print(\"\\nValue Count for {}: \\n{}\".format(col, data[col].value_counts(normalize=True)))\n",
    "\n",
    "print_value_cnt(\"Finances\")\n",
    "print_value_cnt(\"Healthy eating\")\n",
    "print_value_cnt(\"Gender\")\n",
    "print_value_cnt(\"Village - town\")\n",
    "print(\"\")\n",
    "\n",
    "print(\"For 'Finances' column, 35.55% values are set to 3 and for 'Healthy eating' column 50.04% values are set to 3. \\\n",
    "Hence setting the missing values in these columns to 3\")\n",
    "print(\"\")\n",
    "print(\"For 'Gender' column, 59.30% values are set to 'female' and for 'Village - town' column 70.39% values are set to 'city'. \\\n",
    "Hence setting the missing values in these columns 'female' & 'city' respectively.\")\n",
    "\n",
    "\n",
    "data = data.fillna(pd.Series(data = [3, \"female\", \"city\", 3], index = [\"Finances\", \"Gender\", \"Village - town\", \"Healthy eating\"]))"
   ]
  },
  {
   "cell_type": "code",
   "execution_count": 280,
   "metadata": {},
   "outputs": [
    {
     "data": {
      "text/html": [
       "<div>\n",
       "<style scoped>\n",
       "    .dataframe tbody tr th:only-of-type {\n",
       "        vertical-align: middle;\n",
       "    }\n",
       "\n",
       "    .dataframe tbody tr th {\n",
       "        vertical-align: top;\n",
       "    }\n",
       "\n",
       "    .dataframe thead th {\n",
       "        text-align: right;\n",
       "    }\n",
       "</style>\n",
       "<table border=\"1\" class=\"dataframe\">\n",
       "  <thead>\n",
       "    <tr style=\"text-align: right;\">\n",
       "      <th></th>\n",
       "      <th>Finances</th>\n",
       "      <th>Gender</th>\n",
       "      <th>Village - town</th>\n",
       "      <th>Healthy eating</th>\n",
       "    </tr>\n",
       "  </thead>\n",
       "  <tbody>\n",
       "    <tr>\n",
       "      <th>count</th>\n",
       "      <td>1010.000000</td>\n",
       "      <td>1010</td>\n",
       "      <td>1010</td>\n",
       "      <td>1010.000000</td>\n",
       "    </tr>\n",
       "    <tr>\n",
       "      <th>unique</th>\n",
       "      <td>NaN</td>\n",
       "      <td>2</td>\n",
       "      <td>2</td>\n",
       "      <td>NaN</td>\n",
       "    </tr>\n",
       "    <tr>\n",
       "      <th>top</th>\n",
       "      <td>NaN</td>\n",
       "      <td>female</td>\n",
       "      <td>city</td>\n",
       "      <td>NaN</td>\n",
       "    </tr>\n",
       "    <tr>\n",
       "      <th>freq</th>\n",
       "      <td>NaN</td>\n",
       "      <td>599</td>\n",
       "      <td>711</td>\n",
       "      <td>NaN</td>\n",
       "    </tr>\n",
       "    <tr>\n",
       "      <th>mean</th>\n",
       "      <td>3.023762</td>\n",
       "      <td>NaN</td>\n",
       "      <td>NaN</td>\n",
       "      <td>3.031683</td>\n",
       "    </tr>\n",
       "    <tr>\n",
       "      <th>std</th>\n",
       "      <td>1.142663</td>\n",
       "      <td>NaN</td>\n",
       "      <td>NaN</td>\n",
       "      <td>0.935473</td>\n",
       "    </tr>\n",
       "    <tr>\n",
       "      <th>min</th>\n",
       "      <td>1.000000</td>\n",
       "      <td>NaN</td>\n",
       "      <td>NaN</td>\n",
       "      <td>1.000000</td>\n",
       "    </tr>\n",
       "    <tr>\n",
       "      <th>25%</th>\n",
       "      <td>2.000000</td>\n",
       "      <td>NaN</td>\n",
       "      <td>NaN</td>\n",
       "      <td>3.000000</td>\n",
       "    </tr>\n",
       "    <tr>\n",
       "      <th>50%</th>\n",
       "      <td>3.000000</td>\n",
       "      <td>NaN</td>\n",
       "      <td>NaN</td>\n",
       "      <td>3.000000</td>\n",
       "    </tr>\n",
       "    <tr>\n",
       "      <th>75%</th>\n",
       "      <td>4.000000</td>\n",
       "      <td>NaN</td>\n",
       "      <td>NaN</td>\n",
       "      <td>4.000000</td>\n",
       "    </tr>\n",
       "    <tr>\n",
       "      <th>max</th>\n",
       "      <td>5.000000</td>\n",
       "      <td>NaN</td>\n",
       "      <td>NaN</td>\n",
       "      <td>5.000000</td>\n",
       "    </tr>\n",
       "  </tbody>\n",
       "</table>\n",
       "</div>"
      ],
      "text/plain": [
       "           Finances  Gender Village - town  Healthy eating\n",
       "count   1010.000000    1010           1010     1010.000000\n",
       "unique          NaN       2              2             NaN\n",
       "top             NaN  female           city             NaN\n",
       "freq            NaN     599            711             NaN\n",
       "mean       3.023762     NaN            NaN        3.031683\n",
       "std        1.142663     NaN            NaN        0.935473\n",
       "min        1.000000     NaN            NaN        1.000000\n",
       "25%        2.000000     NaN            NaN        3.000000\n",
       "50%        3.000000     NaN            NaN        3.000000\n",
       "75%        4.000000     NaN            NaN        4.000000\n",
       "max        5.000000     NaN            NaN        5.000000"
      ]
     },
     "execution_count": 280,
     "metadata": {},
     "output_type": "execute_result"
    }
   ],
   "source": [
    "data.describe(include=\"all\")"
   ]
  },
  {
   "cell_type": "code",
   "execution_count": 281,
   "metadata": {},
   "outputs": [
    {
     "data": {
      "text/plain": [
       "<matplotlib.axes._subplots.AxesSubplot at 0x1faf136cd30>"
      ]
     },
     "execution_count": 281,
     "metadata": {},
     "output_type": "execute_result"
    },
    {
     "data": {
      "image/png": "[encoded data removed]",
      "text/plain": [
       "<Figure size 432x288 with 1 Axes>"
      ]
     },
     "metadata": {
      "needs_background": "light"
     },
     "output_type": "display_data"
    }
   ],
   "source": [
    "# Now let's form some visualizations on given data\n",
    "\n",
    "sns.boxplot(data=data)\n",
    "\n",
    "# Healthy eating- With 25% and 50% values centered around Value-3, Value - 1 in Healthy eating is clearly an outlier. \n",
    "# Which means compared to overall population, there are very less people that have less healthy lifestyle."
   ]
  },
  {
   "cell_type": "code",
   "execution_count": 282,
   "metadata": {},
   "outputs": [
    {
     "data": {
      "text/plain": [
       "<matplotlib.axes._subplots.AxesSubplot at 0x1faf0ff2a20>"
      ]
     },
     "execution_count": 282,
     "metadata": {},
     "output_type": "execute_result"
    },
    {
     "data": {
      "image/png": "[encoded data removed]",
      "text/plain": [
       "<Figure size 432x288 with 1 Axes>"
      ]
     },
     "metadata": {
      "needs_background": "light"
     },
     "output_type": "display_data"
    }
   ],
   "source": [
    "data[\"Gender\"].value_counts().plot(kind=\"bar\")\n",
    "# More female participated in survey than male"
   ]
  },
  {
   "cell_type": "code",
   "execution_count": 283,
   "metadata": {},
   "outputs": [
    {
     "data": {
      "text/plain": [
       "<matplotlib.axes._subplots.AxesSubplot at 0x1faec8d7b38>"
      ]
     },
     "execution_count": 283,
     "metadata": {},
     "output_type": "execute_result"
    },
    {
     "data": {
      "image/png": "[encoded data removed]",
      "text/plain": [
       "<Figure size 432x288 with 1 Axes>"
      ]
     },
     "metadata": {
      "needs_background": "light"
     },
     "output_type": "display_data"
    }
   ],
   "source": [
    "data[\"Village - town\"].value_counts().plot(kind=\"bar\")\n",
    "# More people from city participated in survey than village"
   ]
  },
  {
   "cell_type": "code",
   "execution_count": 284,
   "metadata": {},
   "outputs": [
    {
     "name": "stdout",
     "output_type": "stream",
     "text": [
      "3.0    0.357426\n",
      "4.0    0.249505\n",
      "2.0    0.172277\n",
      "1.0    0.123762\n",
      "5.0    0.097030\n",
      "Name: Finances, dtype: float64\n"
     ]
    },
    {
     "data": {
      "text/plain": [
       "<matplotlib.axes._subplots.AxesSubplot at 0x1faf138cdd8>"
      ]
     },
     "execution_count": 284,
     "metadata": {},
     "output_type": "execute_result"
    },
    {
     "data": {
      "image/png": "[encoded data removed]",
      "text/plain": [
       "<Figure size 432x288 with 1 Axes>"
      ]
     },
     "metadata": {
      "needs_background": "light"
     },
     "output_type": "display_data"
    }
   ],
   "source": [
    "print(data[\"Finances\"].value_counts(normalize=True))\n",
    "data[\"Finances\"].value_counts().plot(kind=\"bar\")\n",
    "\n",
    "# There are more people (35%) with rating 3 for Finances which means one third of population would neither try to save all the money that they can\n",
    "# nor they use all the money that they have.\n",
    "\n",
    "# Infact the next highest bar is with rating 4 (~25%), which means one fourth of population would \n",
    "# save a very decent amount of the money that they can."
   ]
  },
  {
   "cell_type": "code",
   "execution_count": 285,
   "metadata": {},
   "outputs": [
    {
     "name": "stdout",
     "output_type": "stream",
     "text": [
      "3.0    0.501980\n",
      "4.0    0.236634\n",
      "2.0    0.135644\n",
      "1.0    0.080198\n",
      "5.0    0.045545\n",
      "Name: Healthy eating, dtype: float64\n"
     ]
    },
    {
     "data": {
      "text/plain": [
       "<matplotlib.axes._subplots.AxesSubplot at 0x1faf13ed828>"
      ]
     },
     "execution_count": 285,
     "metadata": {},
     "output_type": "execute_result"
    },
    {
     "data": {
      "image/png": "[encoded data removed]",
      "text/plain": [
       "<Figure size 432x288 with 1 Axes>"
      ]
     },
     "metadata": {
      "needs_background": "light"
     },
     "output_type": "display_data"
    }
   ],
   "source": [
    "print(data[\"Healthy eating\"].value_counts(normalize=True))\n",
    "data[\"Healthy eating\"].value_counts().plot(kind=\"bar\")\n",
    "\n",
    "# Half of the population (50%) neither live very healthy lifestyle nor very unhealthy lifestyle.\n",
    "# Only 4.5 % of the population would live very healthy lifestyle whereas 8% live very unhealthy lifestyle."
   ]
  },
  {
   "cell_type": "code",
   "execution_count": 286,
   "metadata": {},
   "outputs": [
    {
     "name": "stdout",
     "output_type": "stream",
     "text": [
      "Finances  1.0  2.0  3.0  4.0  5.0\n",
      "Gender                           \n",
      "female     65   98  223  150   63\n",
      "male       60   76  138  102   35\n"
     ]
    },
    {
     "data": {
      "text/plain": [
       "<matplotlib.axes._subplots.AxesSubplot at 0x1faf1451198>"
      ]
     },
     "execution_count": 286,
     "metadata": {},
     "output_type": "execute_result"
    },
    {
     "data": {
      "image/png": "[encoded data removed]",
      "text/plain": [
       "<Figure size 432x288 with 1 Axes>"
      ]
     },
     "metadata": {
      "needs_background": "light"
     },
     "output_type": "display_data"
    }
   ],
   "source": [
    "# Some important Cross tabs\n",
    "\n",
    "# Cross tab to check how male/female handle their finances\n",
    "print(pd.crosstab(data[\"Gender\"], data[\"Finances\"]))\n",
    "pd.crosstab(data[\"Gender\"], data[\"Finances\"]).plot(kind=\"bar\")\n",
    "\n",
    "# Since rating 3, 4, 5 bars are higher for female, it appears that female handle their finances better than male.\n",
    "# On the other hand there are less number of males that participated in survey than females. So it's obvious that their (male)\n",
    "# bars are going to be smaller. Hence it's hard to conculde who (male/female) handles their finances better without \n",
    "# a statistical test."
   ]
  },
  {
   "cell_type": "code",
   "execution_count": 287,
   "metadata": {},
   "outputs": [
    {
     "name": "stdout",
     "output_type": "stream",
     "text": [
      "Finances        1.0  2.0  3.0  4.0  5.0\n",
      "Village - town                         \n",
      "city             88  133  265  168   57\n",
      "village          37   41   96   84   41\n"
     ]
    },
    {
     "data": {
      "text/plain": [
       "<matplotlib.axes._subplots.AxesSubplot at 0x1faf15e7198>"
      ]
     },
     "execution_count": 287,
     "metadata": {},
     "output_type": "execute_result"
    },
    {
     "data": {
      "image/png": "[encoded data removed]",
      "text/plain": [
       "<Figure size 432x288 with 1 Axes>"
      ]
     },
     "metadata": {
      "needs_background": "light"
     },
     "output_type": "display_data"
    }
   ],
   "source": [
    "print(pd.crosstab(data[\"Village - town\"], data[\"Finances\"]))\n",
    "pd.crosstab(data[\"Village - town\"], data[\"Finances\"]).plot(kind=\"bar\")"
   ]
  },
  {
   "cell_type": "code",
   "execution_count": 288,
   "metadata": {},
   "outputs": [
    {
     "name": "stdout",
     "output_type": "stream",
     "text": [
      "Healthy eating  1.0  2.0  3.0  4.0  5.0\n",
      "Gender                                 \n",
      "female           36   67  329  147   20\n",
      "male             45   70  178   92   26\n"
     ]
    },
    {
     "data": {
      "text/plain": [
       "<matplotlib.axes._subplots.AxesSubplot at 0x1faf1663390>"
      ]
     },
     "execution_count": 288,
     "metadata": {},
     "output_type": "execute_result"
    },
    {
     "data": {
      "image/png": "[encoded data removed]",
      "text/plain": [
       "<Figure size 432x288 with 1 Axes>"
      ]
     },
     "metadata": {
      "needs_background": "light"
     },
     "output_type": "display_data"
    }
   ],
   "source": [
    "print(pd.crosstab(data[\"Gender\"], data[\"Healthy eating\"]))\n",
    "pd.crosstab(data[\"Gender\"], data[\"Healthy eating\"]).plot(kind=\"bar\")"
   ]
  },
  {
   "cell_type": "code",
   "execution_count": 289,
   "metadata": {},
   "outputs": [
    {
     "name": "stdout",
     "output_type": "stream",
     "text": [
      "Healthy eating  1.0  2.0  3.0  4.0  5.0\n",
      "Village - town                         \n",
      "city             58   88  356  177   32\n",
      "village          23   49  151   62   14\n"
     ]
    },
    {
     "data": {
      "text/plain": [
       "<matplotlib.axes._subplots.AxesSubplot at 0x1faf16dd080>"
      ]
     },
     "execution_count": 289,
     "metadata": {},
     "output_type": "execute_result"
    },
    {
     "data": {
      "image/png": "[encoded data removed]",
      "text/plain": [
       "<Figure size 432x288 with 1 Axes>"
      ]
     },
     "metadata": {
      "needs_background": "light"
     },
     "output_type": "display_data"
    }
   ],
   "source": [
    "print(pd.crosstab(data[\"Village - town\"], data[\"Healthy eating\"]))\n",
    "pd.crosstab(data[\"Village - town\"], data[\"Healthy eating\"]).plot(kind=\"bar\")\n",
    "\n",
    "# Since rating 3, 4, 5 bars are higher for city, it appears that city people live healthier lifestyle than village people"
   ]
  },
  {
   "cell_type": "markdown",
   "metadata": {},
   "source": [
    "## 2.0 Create Hypothesis on the following questions"
   ]
  },
  {
   "cell_type": "markdown",
   "metadata": {},
   "source": [
    "### 2.1 - Is saving money (finances) gender dependant?"
   ]
  },
  {
   "cell_type": "code",
   "execution_count": 290,
   "metadata": {},
   "outputs": [
    {
     "name": "stdout",
     "output_type": "stream",
     "text": [
      "[A] Input\n",
      "---------\n",
      "Gender    female  male\n",
      "Finances              \n",
      "1.0           65    60\n",
      "2.0           98    76\n",
      "3.0          223   138\n",
      "4.0          150   102\n",
      "5.0           63    35\n",
      "\n",
      "[B] Hypothesis\n",
      "--------------\n",
      "H0:  There is no difference in saving money between male and female participants.\n",
      "H1:  There is a significant difference in saving money between male and female participants.\n",
      "\n",
      "[C] Level of significance\n",
      "-------------------------\n",
      "alpha =  0.05\n",
      "\n",
      "[D] Analysis\n",
      "------------\n",
      "chi2 =  5.328890527727397\n",
      "p_value =  0.25518454225298753\n",
      "dof =  4\n",
      "expected = \n",
      " [[ 74.13366337  50.86633663]\n",
      " [103.19405941  70.80594059]\n",
      " [214.0980198  146.9019802 ]\n",
      " [149.45346535 102.54653465]\n",
      " [ 58.12079208  39.87920792]]\n",
      "Critical Value =  9.487729036781158\n",
      "\n",
      "Conclusion : There is no difference in saving money between male and female participants.\n"
     ]
    }
   ],
   "source": [
    "print(\"[A] Input\")\n",
    "print(\"---------\")\n",
    "d1 = pd.crosstab(data[\"Finances\"], data[\"Gender\"])\n",
    "print(d1)\n",
    "print(\"\")\n",
    "\n",
    "# Here we got two Categorical Variables - Gender and Finances\n",
    "# Thus we can perform Chi-Square Test of Independence to understand if saving money is gender dependent.\n",
    "\n",
    "print(\"[B] Hypothesis\")\n",
    "print(\"--------------\")\n",
    "h0 = \"There is no difference in saving money between male and female participants.\"\n",
    "h1 = \"There is a significant difference in saving money between male and female participants.\"\n",
    "print(\"H0: \", h0)\n",
    "print(\"H1: \", h1)\n",
    "print(\"\")\n",
    "\n",
    "print(\"[C] Level of significance\")\n",
    "print(\"-------------------------\")\n",
    "alpha = 0.05\n",
    "print(\"alpha = \", 0.05)\n",
    "print(\"\")\n",
    "\n",
    "print(\"[D] Analysis\")\n",
    "print(\"------------\")\n",
    "chi2, p_value, dof, expected = stats.chi2_contingency(d1, correction=False)\n",
    "print(\"chi2 = \", chi2)\n",
    "print(\"p_value = \", p_value)\n",
    "print(\"dof = \", dof)\n",
    "print(\"expected = \\n\", expected)\n",
    "chi2_crit = stats.chi2.isf(q = alpha, df = dof)\n",
    "print(\"Critical Value = \", chi2_crit)\n",
    "print(\"\")\n",
    "\n",
    "# Should we reject H0?\n",
    "reject_h0 = chi2 > chi2_crit\n",
    "print(np.where(reject_h0, \n",
    "               \"Conclusion : \" + h1,\n",
    "               \"Conclusion : \" + h0))\n"
   ]
  },
  {
   "cell_type": "markdown",
   "metadata": {},
   "source": [
    "### 2.2 - Is there any differences in money saving (finances) between people from city or village?"
   ]
  },
  {
   "cell_type": "code",
   "execution_count": 291,
   "metadata": {},
   "outputs": [
    {
     "name": "stdout",
     "output_type": "stream",
     "text": [
      "[A] Input\n",
      "---------\n",
      "Village - town  city  village\n",
      "Finances                     \n",
      "1.0               88       37\n",
      "2.0              133       41\n",
      "3.0              265       96\n",
      "4.0              168       84\n",
      "5.0               57       41\n",
      "\n",
      "[B] Hypothesis\n",
      "--------------\n",
      "H0:  There is no difference in saving money between people from city and village.\n",
      "H1:  There is a significant difference in saving money between people from city and village.\n",
      "\n",
      "[C] Level of significance\n",
      "-------------------------\n",
      "alpha =  0.05\n",
      "\n",
      "[D] Analysis\n",
      "------------\n",
      "chi2 =  13.336002693956441\n",
      "p_value =  0.009745541835991274\n",
      "dof =  4\n",
      "Critical Value =  9.487729036781158\n",
      "\n",
      "Conclusion : There is a significant difference in saving money between people from city and village.\n"
     ]
    }
   ],
   "source": [
    "print(\"[A] Input\")\n",
    "print(\"---------\")\n",
    "d1 = pd.crosstab(data[\"Finances\"], data[\"Village - town\"])\n",
    "print(d1)\n",
    "print(\"\")\n",
    "\n",
    "# Here we got two Categorical Variables - Village - town and Finances\n",
    "# Thus we can perform Chi-Square Test of Independence to understand if saving money is location dependent.\n",
    "\n",
    "print(\"[B] Hypothesis\")\n",
    "print(\"--------------\")\n",
    "h0 = \"There is no difference in saving money between people from city and village.\"\n",
    "h1 = \"There is a significant difference in saving money between people from city and village.\"\n",
    "print(\"H0: \", h0)\n",
    "print(\"H1: \", h1)\n",
    "print(\"\")\n",
    "\n",
    "print(\"[C] Level of significance\")\n",
    "print(\"-------------------------\")\n",
    "alpha = 0.05\n",
    "print(\"alpha = \", 0.05)\n",
    "print(\"\")\n",
    "\n",
    "print(\"[D] Analysis\")\n",
    "print(\"------------\")\n",
    "chi2, p_value, dof, expected = stats.chi2_contingency(d1, correction=False)\n",
    "print(\"chi2 = \", chi2)\n",
    "print(\"p_value = \", p_value)\n",
    "print(\"dof = \", dof)\n",
    "#print(\"expected = \", expected)\n",
    "chi2_crit = stats.chi2.isf(q = alpha, df = dof)\n",
    "print(\"Critical Value = \", chi2_crit)\n",
    "print(\"\")\n",
    "\n",
    "# Should we reject H0?\n",
    "reject_h0 = chi2 > chi2_crit\n",
    "print(np.where(reject_h0, \n",
    "               \"Conclusion : \" + h1,\n",
    "               \"Conclusion : \" + h0))"
   ]
  },
  {
   "cell_type": "markdown",
   "metadata": {},
   "source": [
    "### 2.3 - Do Women have a Healthier Lifestyle than Men?"
   ]
  },
  {
   "cell_type": "code",
   "execution_count": 292,
   "metadata": {},
   "outputs": [
    {
     "name": "stdout",
     "output_type": "stream",
     "text": [
      "Input (Head)\n",
      "------------\n",
      "Healthy Eating - female \n",
      "0    4.0\n",
      "1    3.0\n",
      "2    3.0\n",
      "3    3.0\n",
      "4    4.0\n",
      "Name: Healthy eating, dtype: float64\n",
      "\n",
      "Healthy Eating - male \n",
      "5     2.0\n",
      "7     2.0\n",
      "15    5.0\n",
      "18    4.0\n",
      "19    3.0\n",
      "Name: Healthy eating, dtype: float64\n",
      "\n",
      "[B] Hypothesis\n",
      "--------------\n",
      "H0:  mu_female <= mu_male\n",
      "H1:  mu_female > mu_male\n",
      "\n",
      "[C] Level of significance\n",
      "-------------------------\n",
      "alpha =  0.05\n",
      "\n",
      "[D] Analysis\n",
      "------------\n",
      "DOF =  1008\n",
      "Critical Value =  1.64636670140285\n",
      "t_stat =  1.990009744180731\n",
      "p_value =  0.04685965412880698\n",
      "\n",
      "Conclusion : Women have healthier lifestyle than men.\n"
     ]
    }
   ],
   "source": [
    "# Let's first divide the data into two groups according to Gender - Male group and Female group.\n",
    "# And take Healthy eating for each group\n",
    "# Then compare means of these two groups\n",
    "female_grp = data[data[\"Gender\"] == \"female\"][\"Healthy eating\"]\n",
    "male_grp = data[data[\"Gender\"] == \"male\"][\"Healthy eating\"]\n",
    "\n",
    "print(\"Input (Head)\")\n",
    "print(\"------------\")\n",
    "print(\"Healthy Eating - female \")\n",
    "print(female_grp.head(5))\n",
    "print(\"\")\n",
    "print(\"Healthy Eating - male \")\n",
    "print(male_grp.head(5))\n",
    "n1 = len(female_grp)\n",
    "n2 = len(male_grp)\n",
    "\n",
    "print(\"\")\n",
    "\n",
    "print(\"[B] Hypothesis\")\n",
    "print(\"--------------\")\n",
    "h0 = \"mu_female <= mu_male\"\n",
    "h0_desc = \"Women have a less or equal healthy lifestyle as men.\"\n",
    "h1 = \"mu_female > mu_male\"\n",
    "h1_desc = \"Women have healthier lifestyle than men.\"\n",
    "print(\"H0: \", h0)\n",
    "print(\"H1: \", h1)\n",
    "print(\"\")\n",
    "\n",
    "print(\"[C] Level of significance\")\n",
    "print(\"-------------------------\")\n",
    "alpha = 0.05\n",
    "print(\"alpha = \", 0.05)\n",
    "print(\"\")\n",
    "\n",
    "print(\"[D] Analysis\")\n",
    "print(\"------------\")\n",
    "dof = n1 + n2 - 2\n",
    "print(\"DOF = \", dof)\n",
    "t_crit = stats.t.isf(q = 0.05, df = dof)\n",
    "print(\"Critical Value = \", t_crit)\n",
    "t_stat, p_value = stats.ttest_ind(female_grp, male_grp, equal_var=True)\n",
    "print(\"t_stat = \", t_stat)\n",
    "print(\"p_value = \", p_value)\n",
    "print(\"\")\n",
    "\n",
    "# Should we reject H0?\n",
    "reject_h0 = t_stat > t_crit\n",
    "print(np.where(reject_h0, \n",
    "               \"Conclusion : \" + h1_desc,\n",
    "               \"Conclusion : \" + h0_desc))"
   ]
  },
  {
   "cell_type": "markdown",
   "metadata": {},
   "source": [
    "### 2.4 - Are Village People Healthier than City People?"
   ]
  },
  {
   "cell_type": "code",
   "execution_count": 293,
   "metadata": {},
   "outputs": [
    {
     "name": "stdout",
     "output_type": "stream",
     "text": [
      "Input (Head)\n",
      "------------\n",
      "Healthy Eating - city \n",
      "1    3.0\n",
      "2    3.0\n",
      "3    3.0\n",
      "5    2.0\n",
      "7    2.0\n",
      "Name: Healthy eating, dtype: float64\n",
      "\n",
      "Healthy Eating - village \n",
      "0     4.0\n",
      "4     4.0\n",
      "6     4.0\n",
      "17    3.0\n",
      "28    5.0\n",
      "Name: Healthy eating, dtype: float64\n",
      "\n",
      "[B] Hypothesis\n",
      "--------------\n",
      "H0:  mu_village <= mu_city\n",
      "H1:  mu_village > mu_city\n",
      "\n",
      "[C] Level of significance\n",
      "-------------------------\n",
      "alpha =  0.05\n",
      "\n",
      "[D] Analysis\n",
      "------------\n",
      "DOF =  1008\n",
      "Critical Value =  1.64636670140285\n",
      "t_stat =  -1.066485812628908\n",
      "p_value =  0.2864594559841501\n",
      "\n",
      "Conclusion : Village people have a less or equal healthy lifestyle as City people.\n",
      "\n"
     ]
    }
   ],
   "source": [
    "# Let's first divide the data into two groups according to Village - town - city group and village group.\n",
    "# And take Healthy eating for each group\n",
    "# Then compare means of these two groups\n",
    "city_grp = data[data[\"Village - town\"] == \"city\"][\"Healthy eating\"]\n",
    "village_grp = data[data[\"Village - town\"] == \"village\"][\"Healthy eating\"]\n",
    "\n",
    "print(\"Input (Head)\")\n",
    "print(\"------------\")\n",
    "print(\"Healthy Eating - city \")\n",
    "print(city_grp.head(5))\n",
    "print(\"\")\n",
    "print(\"Healthy Eating - village \")\n",
    "print(village_grp.head(5))\n",
    "n1 = len(city_grp)\n",
    "n2 = len(village_grp)\n",
    "\n",
    "print(\"\")\n",
    "\n",
    "print(\"[B] Hypothesis\")\n",
    "print(\"--------------\")\n",
    "h0 = \"mu_village <= mu_city\"\n",
    "h0_desc = \"Village people have a less or equal healthy lifestyle as City people.\"\n",
    "h1 = \"mu_village > mu_city\"\n",
    "h1_desc = \"Village people have healthier lifestyle than City people.\"\n",
    "print(\"H0: \", h0)\n",
    "print(\"H1: \", h1)\n",
    "print(\"\")\n",
    "\n",
    "print(\"[C] Level of significance\")\n",
    "print(\"-------------------------\")\n",
    "alpha = 0.05\n",
    "print(\"alpha = \", 0.05)\n",
    "print(\"\")\n",
    "\n",
    "print(\"[D] Analysis\")\n",
    "print(\"------------\")\n",
    "dof = n1 + n2 - 2\n",
    "print(\"DOF = \", dof)\n",
    "t_crit = stats.t.isf(q = 0.05, df = dof)\n",
    "print(\"Critical Value = \", t_crit)\n",
    "t_stat, p_value = stats.ttest_ind(village_grp, city_grp, equal_var=True)\n",
    "print(\"t_stat = \", t_stat)\n",
    "print(\"p_value = \", p_value)\n",
    "print(\"\")\n",
    "\n",
    "# Should we reject H0?\n",
    "reject_h0 = t_stat > t_crit\n",
    "print(np.where(reject_h0, \n",
    "               \"Conclusion : \" + h1_desc,\n",
    "               \"Conclusion : \" + h0_desc))\n",
    "print(\"\")"
   ]
  },
  {
   "cell_type": "code",
   "execution_count": 294,
   "metadata": {},
   "outputs": [
    {
     "name": "stdout",
     "output_type": "stream",
     "text": [
      "Overall conculsion: \n"
     ]
    },
    {
     "data": {
      "text/html": [
       "<div>\n",
       "<style scoped>\n",
       "    .dataframe tbody tr th:only-of-type {\n",
       "        vertical-align: middle;\n",
       "    }\n",
       "\n",
       "    .dataframe tbody tr th {\n",
       "        vertical-align: top;\n",
       "    }\n",
       "\n",
       "    .dataframe thead th {\n",
       "        text-align: right;\n",
       "    }\n",
       "</style>\n",
       "<table border=\"1\" class=\"dataframe\">\n",
       "  <thead>\n",
       "    <tr style=\"text-align: right;\">\n",
       "      <th></th>\n",
       "      <th>Gender</th>\n",
       "      <th>Location</th>\n",
       "    </tr>\n",
       "  </thead>\n",
       "  <tbody>\n",
       "    <tr>\n",
       "      <th>Saving Money</th>\n",
       "      <td>There is no difference in saving money between male and female.</td>\n",
       "      <td>There is significant difference in saving money between people from city and village.</td>\n",
       "    </tr>\n",
       "    <tr>\n",
       "      <th>Healthier Lifestyle</th>\n",
       "      <td>Women have healthier lifestyle than men.</td>\n",
       "      <td>Village people are less or equally healthy as city people.</td>\n",
       "    </tr>\n",
       "  </tbody>\n",
       "</table>\n",
       "</div>"
      ],
      "text/plain": [
       "                                                                              Gender  \\\n",
       "Saving Money         There is no difference in saving money between male and female.   \n",
       "Healthier Lifestyle                         Women have healthier lifestyle than men.   \n",
       "\n",
       "                                                                                                  Location  \n",
       "Saving Money         There is significant difference in saving money between people from city and village.  \n",
       "Healthier Lifestyle                             Village people are less or equally healthy as city people.  "
      ]
     },
     "execution_count": 294,
     "metadata": {},
     "output_type": "execute_result"
    }
   ],
   "source": [
    "print(\"Overall conculsion: \")\n",
    "pd.options.display.max_colwidth = 100\n",
    "pd.DataFrame({\"Gender\" : [\"There is no difference in saving money between male and female.\", \"Women have healthier lifestyle than men.\"],\n",
    "              \"Location\" : [\"There is significant difference in saving money between people from city and village.\", \"Village people are less or equally healthy as city people.\"]\n",
    "             }, index = [\"Saving Money\", \"Healthier Lifestyle\"])"
   ]
  }
 ],
 "metadata": {
  "kernelspec": {
   "display_name": "Python 3",
   "language": "python",
   "name": "python3"
  },
  "language_info": {
   "codemirror_mode": {
    "name": "ipython",
    "version": 3
   },
   "file_extension": ".py",
   "mimetype": "text/x-python",
   "name": "python",
   "nbconvert_exporter": "python",
   "pygments_lexer": "ipython3",
   "version": "3.7.3"
  }
 },
 "nbformat": 4,
 "nbformat_minor": 2
}
