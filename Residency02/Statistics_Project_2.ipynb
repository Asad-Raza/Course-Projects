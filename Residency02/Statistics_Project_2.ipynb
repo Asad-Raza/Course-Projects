{
 "cells": [
  {
   "cell_type": "markdown",
   "metadata": {},
   "source": [
    "# Welcome to Statistics Project-2\n",
    "\n",
    "Dear Participant,\n",
    "\n",
    "Please find the below details for Statistics Project-2.\n",
    "\n",
    "About Data –\n",
    "\n",
    "In 2013, students of the Statistics class at FSEV UK were asked to invite their friends to participate in this survey.\n",
    "\n",
    "The data file (responses.csv) consists of 1010 rows and 150 columns (139 integers and 11 categorical).\n",
    "\n",
    "dataset - responses.csvView in a new window\n",
    "\n",
    "For convenience, the original variable names were shortened in the data file.\n",
    "\n",
    "See the columns.csv file if you want to match the data with the original names.\n",
    "\n",
    "* The data contain missing values.\n",
    "* The survey was presented to participants in both electronic and written form.\n",
    "* The original questionnaire was in Slovak language and was later translated into English.\n",
    "* All participants were of Slovakian nationality, aged between 15-30.\n",
    "\n",
    "For this Project we are considering 2 sections of data –  __Health Habits and Spending Habits__\n",
    "\n",
    "* Health Habits - I live a very healthy lifestyle. \n",
    "  - Here Strongly disagree 1-2-3-4-5 Strongly agree\n",
    "* Spending Habits - I save all the money I can.\n",
    "  - Strongly disagree 1-2-3-4-5 Strongly agree\n",
    " \n",
    "\n",
    "__The Agenda is to find whether Spending Habits and Healthy Lifestyle is related to Gender and Place or not.__\n",
    "\n",
    "Steps –\n",
    "\n",
    "* Load the data and extract the relevant columns. Hint – Relevant Columns will be \n",
    "  - Finances\n",
    "  - Gender\n",
    "  - Village-Town\n",
    "  - Healthy Eating\n",
    "* Explore the data and understand how the data is distributed? Is there any outlier or missing value? And Share your insights.\n",
    "* Create Hypothesis on the following questions –\n",
    "  - Is saving money (finances) gender dependant?\n",
    "  - Is there any differences in money saving (finances) between people from city or village?\n",
    "  - Do Women have a Healthier Lifestyle than Men?\n",
    "  - Are Village People Healthier than City People?\n",
    "* Perform the required statistical tests to validate/reject the Hypothesis in above step.\n",
    "* State your insights and conclusions.\n",
    "\n",
    "\n",
    "Please Note:\n",
    "\n",
    "__Total marks__ allotted for this assignment is __35__."
   ]
  },
  {
   "cell_type": "code",
   "execution_count": 278,
   "metadata": {},
   "outputs": [],
   "source": [
    "# Import necessary Python modules\n",
    "import pandas as pd\n",
    "import numpy as np\n",
    "import matplotlib.pyplot as plt\n",
    "import seaborn as sns\n",
    "from sklearn import model_selection\n",
    "from sklearn.metrics import mean_squared_error, r2_score\n",
    "import scipy"
   ]
  },
  {
   "cell_type": "code",
   "execution_count": 279,
   "metadata": {},
   "outputs": [
    {
     "name": "stdout",
     "output_type": "stream",
     "text": [
      "Shape of Dataset --  (1010, 150)\n"
     ]
    }
   ],
   "source": [
    "# Load the data\n",
    "survey = pd.read_csv(\"responses.csv\", dtype = {\"Gender\" : \"category\", \n",
    "                                               \"Village - town\" : \"category\"\n",
    "                                              })\n",
    "\n",
    "# Check the shape of given dataset\n",
    "print(\"Shape of Dataset -- \", survey.shape)"
   ]
  },
  {
   "cell_type": "code",
   "execution_count": 280,
   "metadata": {},
   "outputs": [
    {
     "data": {
      "text/plain": [
       "(1010, 4)"
      ]
     },
     "execution_count": 280,
     "metadata": {},
     "output_type": "execute_result"
    }
   ],
   "source": [
    "# So we have 1010 rows and 150 columns\n",
    "\n",
    "# Now let's grab the relevant columns for our analysis\n",
    "\n",
    "data = survey[[\"Finances\", \"Gender\", \"Village - town\", \"Healthy eating\"]]\n",
    "\n",
    "data.shape"
   ]
  },
  {
   "cell_type": "code",
   "execution_count": 281,
   "metadata": {},
   "outputs": [
    {
     "data": {
      "text/html": [
       "<div>\n",
       "<style scoped>\n",
       "    .dataframe tbody tr th:only-of-type {\n",
       "        vertical-align: middle;\n",
       "    }\n",
       "\n",
       "    .dataframe tbody tr th {\n",
       "        vertical-align: top;\n",
       "    }\n",
       "\n",
       "    .dataframe thead th {\n",
       "        text-align: right;\n",
       "    }\n",
       "</style>\n",
       "<table border=\"1\" class=\"dataframe\">\n",
       "  <thead>\n",
       "    <tr style=\"text-align: right;\">\n",
       "      <th></th>\n",
       "      <th>Finances</th>\n",
       "      <th>Gender</th>\n",
       "      <th>Village - town</th>\n",
       "      <th>Healthy eating</th>\n",
       "    </tr>\n",
       "  </thead>\n",
       "  <tbody>\n",
       "    <tr>\n",
       "      <th>count</th>\n",
       "      <td>1007.000000</td>\n",
       "      <td>1004</td>\n",
       "      <td>1006</td>\n",
       "      <td>1007.000000</td>\n",
       "    </tr>\n",
       "    <tr>\n",
       "      <th>unique</th>\n",
       "      <td>NaN</td>\n",
       "      <td>2</td>\n",
       "      <td>2</td>\n",
       "      <td>NaN</td>\n",
       "    </tr>\n",
       "    <tr>\n",
       "      <th>top</th>\n",
       "      <td>NaN</td>\n",
       "      <td>female</td>\n",
       "      <td>city</td>\n",
       "      <td>NaN</td>\n",
       "    </tr>\n",
       "    <tr>\n",
       "      <th>freq</th>\n",
       "      <td>NaN</td>\n",
       "      <td>593</td>\n",
       "      <td>707</td>\n",
       "      <td>NaN</td>\n",
       "    </tr>\n",
       "    <tr>\n",
       "      <th>mean</th>\n",
       "      <td>3.023833</td>\n",
       "      <td>NaN</td>\n",
       "      <td>NaN</td>\n",
       "      <td>3.031778</td>\n",
       "    </tr>\n",
       "    <tr>\n",
       "      <th>std</th>\n",
       "      <td>1.144365</td>\n",
       "      <td>NaN</td>\n",
       "      <td>NaN</td>\n",
       "      <td>0.936865</td>\n",
       "    </tr>\n",
       "    <tr>\n",
       "      <th>min</th>\n",
       "      <td>1.000000</td>\n",
       "      <td>NaN</td>\n",
       "      <td>NaN</td>\n",
       "      <td>1.000000</td>\n",
       "    </tr>\n",
       "    <tr>\n",
       "      <th>25%</th>\n",
       "      <td>2.000000</td>\n",
       "      <td>NaN</td>\n",
       "      <td>NaN</td>\n",
       "      <td>3.000000</td>\n",
       "    </tr>\n",
       "    <tr>\n",
       "      <th>50%</th>\n",
       "      <td>3.000000</td>\n",
       "      <td>NaN</td>\n",
       "      <td>NaN</td>\n",
       "      <td>3.000000</td>\n",
       "    </tr>\n",
       "    <tr>\n",
       "      <th>75%</th>\n",
       "      <td>4.000000</td>\n",
       "      <td>NaN</td>\n",
       "      <td>NaN</td>\n",
       "      <td>4.000000</td>\n",
       "    </tr>\n",
       "    <tr>\n",
       "      <th>max</th>\n",
       "      <td>5.000000</td>\n",
       "      <td>NaN</td>\n",
       "      <td>NaN</td>\n",
       "      <td>5.000000</td>\n",
       "    </tr>\n",
       "  </tbody>\n",
       "</table>\n",
       "</div>"
      ],
      "text/plain": [
       "           Finances  Gender Village - town  Healthy eating\n",
       "count   1007.000000    1004           1006     1007.000000\n",
       "unique          NaN       2              2             NaN\n",
       "top             NaN  female           city             NaN\n",
       "freq            NaN     593            707             NaN\n",
       "mean       3.023833     NaN            NaN        3.031778\n",
       "std        1.144365     NaN            NaN        0.936865\n",
       "min        1.000000     NaN            NaN        1.000000\n",
       "25%        2.000000     NaN            NaN        3.000000\n",
       "50%        3.000000     NaN            NaN        3.000000\n",
       "75%        4.000000     NaN            NaN        4.000000\n",
       "max        5.000000     NaN            NaN        5.000000"
      ]
     },
     "execution_count": 281,
     "metadata": {},
     "output_type": "execute_result"
    }
   ],
   "source": [
    "# Generate descriptive statistics that summarize the central tendency,\n",
    "# dispersion and shape of a dataset's distribution, excluding\n",
    "# ``NaN`` values.\n",
    "data.describe(include='all')"
   ]
  },
  {
   "cell_type": "code",
   "execution_count": 282,
   "metadata": {},
   "outputs": [
    {
     "name": "stdout",
     "output_type": "stream",
     "text": [
      "Missing values in Finances column = 3\n",
      "Missing values in Gender column = 6\n",
      "Missing values in Village - town column = 4\n",
      "Missing values in Healthy eating column = 3\n"
     ]
    }
   ],
   "source": [
    "# Count number of missing values\n",
    "missing_cnt = lambda col : print(\"Missing values in {} column = {}\".format(col, sum(data[col].isna().ravel())))\n",
    "\n",
    "missing_cnt(\"Finances\")\n",
    "missing_cnt(\"Gender\")\n",
    "missing_cnt(\"Village - town\")\n",
    "missing_cnt(\"Healthy eating\")"
   ]
  },
  {
   "cell_type": "code",
   "execution_count": 320,
   "metadata": {},
   "outputs": [
    {
     "name": "stdout",
     "output_type": "stream",
     "text": [
      "3.0    0.357426\n",
      "4.0    0.249505\n",
      "2.0    0.172277\n",
      "1.0    0.123762\n",
      "5.0    0.097030\n",
      "Name: Finances, dtype: float64\n",
      "3.0    0.501980\n",
      "4.0    0.236634\n",
      "2.0    0.135644\n",
      "1.0    0.080198\n",
      "5.0    0.045545\n",
      "Name: Healthy eating, dtype: float64\n",
      "female    0.593069\n",
      "male      0.406931\n",
      "Name: Gender, dtype: float64\n",
      "city       0.70396\n",
      "village    0.29604\n",
      "Name: Village - town, dtype: float64\n",
      "\n",
      "For 'Finances' column, 35.55% values are set to 3 (Median value) and for 'Healthy eating' column 50.04% values are set to 3 (Median value). Hence setting the missing values in these columns to 3\n",
      "\n",
      "For 'Gender' column, 59.30% values are set to 'female' and for 'Village - town' column 70.39% values are set to 'city'. Hence setting the missing values in these columns 'female' & 'city' respectively.\n"
     ]
    }
   ],
   "source": [
    "print(data[\"Finances\"].value_counts(normalize=True))\n",
    "print(data[\"Healthy eating\"].value_counts(normalize=True))\n",
    "print(data[\"Gender\"].value_counts(normalize=True))\n",
    "print(data[\"Village - town\"].value_counts(normalize=True))\n",
    "\n",
    "print(\"\")\n",
    "\n",
    "print(\"For 'Finances' column, 35.55% values are set to 3 (Median value) and for 'Healthy eating' column 50.04% values are set to 3 (Median value). \\\n",
    "Hence setting the missing values in these columns to 3\")\n",
    "print(\"\")\n",
    "print(\"For 'Gender' column, 59.30% values are set to 'female' and for 'Village - town' column 70.39% values are set to 'city'. \\\n",
    "Hence setting the missing values in these columns 'female' & 'city' respectively.\")\n",
    "\n",
    "data = data.fillna(data.median()[\"Finances\":\"Healthy eating\"])\n",
    "data = data.fillna(pd.Series(data = [\"female\", \"city\"], index = [\"Gender\", \"Village - town\"]))"
   ]
  },
  {
   "cell_type": "code",
   "execution_count": 284,
   "metadata": {},
   "outputs": [
    {
     "data": {
      "text/html": [
       "<div>\n",
       "<style scoped>\n",
       "    .dataframe tbody tr th:only-of-type {\n",
       "        vertical-align: middle;\n",
       "    }\n",
       "\n",
       "    .dataframe tbody tr th {\n",
       "        vertical-align: top;\n",
       "    }\n",
       "\n",
       "    .dataframe thead th {\n",
       "        text-align: right;\n",
       "    }\n",
       "</style>\n",
       "<table border=\"1\" class=\"dataframe\">\n",
       "  <thead>\n",
       "    <tr style=\"text-align: right;\">\n",
       "      <th></th>\n",
       "      <th>Finances</th>\n",
       "      <th>Gender</th>\n",
       "      <th>Village - town</th>\n",
       "      <th>Healthy eating</th>\n",
       "    </tr>\n",
       "  </thead>\n",
       "  <tbody>\n",
       "    <tr>\n",
       "      <th>count</th>\n",
       "      <td>1010.000000</td>\n",
       "      <td>1010</td>\n",
       "      <td>1010</td>\n",
       "      <td>1010.000000</td>\n",
       "    </tr>\n",
       "    <tr>\n",
       "      <th>unique</th>\n",
       "      <td>NaN</td>\n",
       "      <td>2</td>\n",
       "      <td>2</td>\n",
       "      <td>NaN</td>\n",
       "    </tr>\n",
       "    <tr>\n",
       "      <th>top</th>\n",
       "      <td>NaN</td>\n",
       "      <td>female</td>\n",
       "      <td>city</td>\n",
       "      <td>NaN</td>\n",
       "    </tr>\n",
       "    <tr>\n",
       "      <th>freq</th>\n",
       "      <td>NaN</td>\n",
       "      <td>599</td>\n",
       "      <td>711</td>\n",
       "      <td>NaN</td>\n",
       "    </tr>\n",
       "    <tr>\n",
       "      <th>mean</th>\n",
       "      <td>3.023762</td>\n",
       "      <td>NaN</td>\n",
       "      <td>NaN</td>\n",
       "      <td>3.031683</td>\n",
       "    </tr>\n",
       "    <tr>\n",
       "      <th>std</th>\n",
       "      <td>1.142663</td>\n",
       "      <td>NaN</td>\n",
       "      <td>NaN</td>\n",
       "      <td>0.935473</td>\n",
       "    </tr>\n",
       "    <tr>\n",
       "      <th>min</th>\n",
       "      <td>1.000000</td>\n",
       "      <td>NaN</td>\n",
       "      <td>NaN</td>\n",
       "      <td>1.000000</td>\n",
       "    </tr>\n",
       "    <tr>\n",
       "      <th>25%</th>\n",
       "      <td>2.000000</td>\n",
       "      <td>NaN</td>\n",
       "      <td>NaN</td>\n",
       "      <td>3.000000</td>\n",
       "    </tr>\n",
       "    <tr>\n",
       "      <th>50%</th>\n",
       "      <td>3.000000</td>\n",
       "      <td>NaN</td>\n",
       "      <td>NaN</td>\n",
       "      <td>3.000000</td>\n",
       "    </tr>\n",
       "    <tr>\n",
       "      <th>75%</th>\n",
       "      <td>4.000000</td>\n",
       "      <td>NaN</td>\n",
       "      <td>NaN</td>\n",
       "      <td>4.000000</td>\n",
       "    </tr>\n",
       "    <tr>\n",
       "      <th>max</th>\n",
       "      <td>5.000000</td>\n",
       "      <td>NaN</td>\n",
       "      <td>NaN</td>\n",
       "      <td>5.000000</td>\n",
       "    </tr>\n",
       "  </tbody>\n",
       "</table>\n",
       "</div>"
      ],
      "text/plain": [
       "           Finances  Gender Village - town  Healthy eating\n",
       "count   1010.000000    1010           1010     1010.000000\n",
       "unique          NaN       2              2             NaN\n",
       "top             NaN  female           city             NaN\n",
       "freq            NaN     599            711             NaN\n",
       "mean       3.023762     NaN            NaN        3.031683\n",
       "std        1.142663     NaN            NaN        0.935473\n",
       "min        1.000000     NaN            NaN        1.000000\n",
       "25%        2.000000     NaN            NaN        3.000000\n",
       "50%        3.000000     NaN            NaN        3.000000\n",
       "75%        4.000000     NaN            NaN        4.000000\n",
       "max        5.000000     NaN            NaN        5.000000"
      ]
     },
     "execution_count": 284,
     "metadata": {},
     "output_type": "execute_result"
    }
   ],
   "source": [
    "data.describe(include=\"all\")"
   ]
  },
  {
   "cell_type": "code",
   "execution_count": 304,
   "metadata": {},
   "outputs": [
    {
     "name": "stdout",
     "output_type": "stream",
     "text": [
      "Value Count for 'Finances' :\n",
      "3.0    361\n",
      "4.0    252\n",
      "2.0    174\n",
      "1.0    125\n",
      "5.0     98\n",
      "Name: Finances, dtype: int64\n",
      "\n",
      "Value Count for 'Healthy eating' :\n",
      "3.0    0.501980\n",
      "4.0    0.236634\n",
      "2.0    0.135644\n",
      "1.0    0.080198\n",
      "5.0    0.045545\n",
      "Name: Healthy eating, dtype: float64\n"
     ]
    }
   ],
   "source": [
    "print(\"Value Count for 'Finances' :\")\n",
    "print(data[\"Finances\"].value_counts())\n",
    "print(\"\")\n",
    "print(\"Value Count for 'Healthy eating' :\")\n",
    "print(data[\"Healthy eating\"].value_counts(normalize=True))"
   ]
  },
  {
   "cell_type": "code",
   "execution_count": 305,
   "metadata": {},
   "outputs": [
    {
     "data": {
      "text/plain": [
       "<matplotlib.axes._subplots.AxesSubplot at 0x20687d09c18>"
      ]
     },
     "execution_count": 305,
     "metadata": {},
     "output_type": "execute_result"
    },
    {
     "data": {
      "image/png": "[encoded data removed]",
      "text/plain": [
       "<Figure size 432x288 with 1 Axes>"
      ]
     },
     "metadata": {},
     "output_type": "display_data"
    }
   ],
   "source": [
    "# Let's do some visualizations\n",
    "sns.boxplot(data=data)\n",
    "\n",
    "# Healthy eating- With 25% and 50% (Median) centered around Value-3, Value - 1 in Healthy eating is clearly an outlier. \n",
    "# Which means compared to overall population, there are very less people that less healthy lifestyle."
   ]
  },
  {
   "cell_type": "code",
   "execution_count": 290,
   "metadata": {},
   "outputs": [
    {
     "data": {
      "text/plain": [
       "<matplotlib.axes._subplots.AxesSubplot at 0x2068741e2e8>"
      ]
     },
     "execution_count": 290,
     "metadata": {},
     "output_type": "execute_result"
    },
    {
     "data": {
      "image/png": "[encoded data removed]",
      "text/plain": [
       "<Figure size 432x288 with 1 Axes>"
      ]
     },
     "metadata": {},
     "output_type": "display_data"
    }
   ],
   "source": [
    "sns.distplot(data[\"Finances\"], bins=5, kde=False)"
   ]
  },
  {
   "cell_type": "code",
   "execution_count": 274,
   "metadata": {},
   "outputs": [
    {
     "data": {
      "text/plain": [
       "<matplotlib.axes._subplots.AxesSubplot at 0x206862e18d0>"
      ]
     },
     "execution_count": 274,
     "metadata": {},
     "output_type": "execute_result"
    },
    {
     "data": {
      "image/png": "[encoded data removed]",
      "text/plain": [
       "<Figure size 432x288 with 1 Axes>"
      ]
     },
     "metadata": {},
     "output_type": "display_data"
    }
   ],
   "source": [
    "sns.distplot(data[\"Healthy eating\"], bins=5, kde=False)"
   ]
  },
  {
   "cell_type": "code",
   "execution_count": 296,
   "metadata": {},
   "outputs": [
    {
     "data": {
      "text/plain": [
       "<matplotlib.axes._subplots.AxesSubplot at 0x20683dedfd0>"
      ]
     },
     "execution_count": 296,
     "metadata": {},
     "output_type": "execute_result"
    },
    {
     "data": {
      "image/png": "[encoded data removed]",
      "text/plain": [
       "<Figure size 432x288 with 1 Axes>"
      ]
     },
     "metadata": {},
     "output_type": "display_data"
    }
   ],
   "source": [
    "data[\"Gender\"].value_counts().plot(kind=\"bar\")\n",
    "# More female participated in survey than male"
   ]
  },
  {
   "cell_type": "code",
   "execution_count": 297,
   "metadata": {},
   "outputs": [
    {
     "data": {
      "text/plain": [
       "<matplotlib.axes._subplots.AxesSubplot at 0x2068748bba8>"
      ]
     },
     "execution_count": 297,
     "metadata": {},
     "output_type": "execute_result"
    },
    {
     "data": {
      "image/png": "[encoded data removed]",
      "text/plain": [
       "<Figure size 432x288 with 1 Axes>"
      ]
     },
     "metadata": {},
     "output_type": "display_data"
    }
   ],
   "source": [
    "data[\"Village - town\"].value_counts().plot(kind=\"bar\")\n",
    "# More people from city participated in survey than village"
   ]
  },
  {
   "cell_type": "code",
   "execution_count": 309,
   "metadata": {},
   "outputs": [
    {
     "name": "stdout",
     "output_type": "stream",
     "text": [
      "3.0    0.357426\n",
      "4.0    0.249505\n",
      "2.0    0.172277\n",
      "1.0    0.123762\n",
      "5.0    0.097030\n",
      "Name: Finances, dtype: float64\n"
     ]
    },
    {
     "data": {
      "text/plain": [
       "<matplotlib.axes._subplots.AxesSubplot at 0x20685dd8278>"
      ]
     },
     "execution_count": 309,
     "metadata": {},
     "output_type": "execute_result"
    },
    {
     "data": {
      "image/png": "[encoded data removed]",
      "text/plain": [
       "<Figure size 432x288 with 1 Axes>"
      ]
     },
     "metadata": {},
     "output_type": "display_data"
    }
   ],
   "source": [
    "print(data[\"Finances\"].value_counts(normalize=True))\n",
    "data[\"Finances\"].value_counts().plot(kind=\"bar\")\n",
    "\n",
    "# There are more people (35%) with rating 3 which means one third of population would neither try to save all the money that they can\n",
    "# nor they use all the money that they have.\n",
    "\n",
    "# Infact the next highest bar is with rating 4 (~25%), which means one fourth of population would \n",
    "# save a very decent amount of the money that they can."
   ]
  },
  {
   "cell_type": "code",
   "execution_count": 312,
   "metadata": {},
   "outputs": [
    {
     "name": "stdout",
     "output_type": "stream",
     "text": [
      "3.0    0.501980\n",
      "4.0    0.236634\n",
      "2.0    0.135644\n",
      "1.0    0.080198\n",
      "5.0    0.045545\n",
      "Name: Healthy eating, dtype: float64\n"
     ]
    },
    {
     "data": {
      "text/plain": [
       "<matplotlib.axes._subplots.AxesSubplot at 0x20683008b38>"
      ]
     },
     "execution_count": 312,
     "metadata": {},
     "output_type": "execute_result"
    },
    {
     "data": {
      "image/png": "[encoded data removed]",
      "text/plain": [
       "<Figure size 432x288 with 1 Axes>"
      ]
     },
     "metadata": {},
     "output_type": "display_data"
    }
   ],
   "source": [
    "print(data[\"Healthy eating\"].value_counts(normalize=True))\n",
    "data[\"Healthy eating\"].value_counts().plot(kind=\"bar\")\n",
    "\n",
    "# Half of the population (50%) neither live very healthy lifestyle nor very unhealthy lifestyle.\n",
    "# Only 4.5 % of the population would live very healthy lifestyle whereas 8% live very unhealthy lifestyle."
   ]
  },
  {
   "cell_type": "code",
   "execution_count": 315,
   "metadata": {},
   "outputs": [
    {
     "name": "stdout",
     "output_type": "stream",
     "text": [
      "Finances  1.0  2.0  3.0  4.0  5.0\n",
      "Gender                           \n",
      "female     65   98  223  150   63\n",
      "male       60   76  138  102   35\n"
     ]
    },
    {
     "data": {
      "text/plain": [
       "<matplotlib.axes._subplots.AxesSubplot at 0x206811f72e8>"
      ]
     },
     "execution_count": 315,
     "metadata": {},
     "output_type": "execute_result"
    },
    {
     "data": {
      "image/png": "[encoded data removed]",
      "text/plain": [
       "<Figure size 432x288 with 1 Axes>"
      ]
     },
     "metadata": {},
     "output_type": "display_data"
    }
   ],
   "source": [
    "# Some important Cross tabs\n",
    "\n",
    "# Cross tab to check how many male/female handle their finances\n",
    "print(pd.crosstab(data[\"Gender\"], data[\"Finances\"]))\n",
    "pd.crosstab(data[\"Gender\"], data[\"Finances\"]).plot(kind=\"bar\")\n",
    "\n",
    "# Since rating 3, 4, 5 bars are higher for female, it appears that female handle their finances better than male"
   ]
  },
  {
   "cell_type": "code",
   "execution_count": 317,
   "metadata": {},
   "outputs": [
    {
     "name": "stdout",
     "output_type": "stream",
     "text": [
      "Finances        1.0  2.0  3.0  4.0  5.0\n",
      "Village - town                         \n",
      "city             88  133  265  168   57\n",
      "village          37   41   96   84   41\n"
     ]
    },
    {
     "data": {
      "text/plain": [
       "<matplotlib.axes._subplots.AxesSubplot at 0x20687cc66a0>"
      ]
     },
     "execution_count": 317,
     "metadata": {},
     "output_type": "execute_result"
    },
    {
     "data": {
      "image/png": "[encoded data removed]",
      "text/plain": [
       "<Figure size 432x288 with 1 Axes>"
      ]
     },
     "metadata": {},
     "output_type": "display_data"
    }
   ],
   "source": [
    "print(pd.crosstab(data[\"Village - town\"], data[\"Finances\"]))\n",
    "pd.crosstab(data[\"Village - town\"], data[\"Finances\"]).plot(kind=\"bar\")"
   ]
  },
  {
   "cell_type": "code",
   "execution_count": 318,
   "metadata": {},
   "outputs": [
    {
     "name": "stdout",
     "output_type": "stream",
     "text": [
      "Healthy eating  1.0  2.0  3.0  4.0  5.0\n",
      "Gender                                 \n",
      "female           36   67  329  147   20\n",
      "male             45   70  178   92   26\n"
     ]
    },
    {
     "data": {
      "text/plain": [
       "<matplotlib.axes._subplots.AxesSubplot at 0x206806e50b8>"
      ]
     },
     "execution_count": 318,
     "metadata": {},
     "output_type": "execute_result"
    },
    {
     "data": {
      "image/png": "[encoded data removed]",
      "text/plain": [
       "<Figure size 432x288 with 1 Axes>"
      ]
     },
     "metadata": {},
     "output_type": "display_data"
    }
   ],
   "source": [
    "print(pd.crosstab(data[\"Gender\"], data[\"Healthy eating\"]))\n",
    "pd.crosstab(data[\"Gender\"], data[\"Healthy eating\"]).plot(kind=\"bar\")"
   ]
  },
  {
   "cell_type": "code",
   "execution_count": 321,
   "metadata": {},
   "outputs": [
    {
     "name": "stdout",
     "output_type": "stream",
     "text": [
      "Healthy eating  1.0  2.0  3.0  4.0  5.0\n",
      "Village - town                         \n",
      "city             58   88  356  177   32\n",
      "village          23   49  151   62   14\n"
     ]
    },
    {
     "data": {
      "text/plain": [
       "<matplotlib.axes._subplots.AxesSubplot at 0x20688030390>"
      ]
     },
     "execution_count": 321,
     "metadata": {},
     "output_type": "execute_result"
    },
    {
     "data": {
      "image/png": "[encoded data removed]",
      "text/plain": [
       "<Figure size 432x288 with 1 Axes>"
      ]
     },
     "metadata": {},
     "output_type": "display_data"
    }
   ],
   "source": [
    "print(pd.crosstab(data[\"Village - town\"], data[\"Healthy eating\"]))\n",
    "pd.crosstab(data[\"Village - town\"], data[\"Healthy eating\"]).plot(kind=\"bar\")\n",
    "\n",
    "# Since rating 3, 4, 5 bars are higher for city, it appears that city people live healthier lifestyle than village people"
   ]
  },
  {
   "cell_type": "markdown",
   "metadata": {},
   "source": [
    "## 2.0 Create Hypothesis on the following questions"
   ]
  },
  {
   "cell_type": "markdown",
   "metadata": {},
   "source": [
    "### 2.1 - Is saving money (finances) gender dependant?\n",
    "\n"
   ]
  }
 ],
 "metadata": {
  "kernelspec": {
   "display_name": "Python 3",
   "language": "python",
   "name": "python3"
  },
  "language_info": {
   "codemirror_mode": {
    "name": "ipython",
    "version": 3
   },
   "file_extension": ".py",
   "mimetype": "text/x-python",
   "name": "python",
   "nbconvert_exporter": "python",
   "pygments_lexer": "ipython3",
   "version": "3.7.3"
  }
 },
 "nbformat": 4,
 "nbformat_minor": 2
}
